{
 "cells": [
  {
   "cell_type": "code",
   "execution_count": 2,
   "metadata": {},
   "outputs": [
    {
     "name": "stdout",
     "output_type": "stream",
     "text": [
      "Requirement already satisfied: pycaret in c:\\users\\hp\\appdata\\local\\programs\\python\\python38\\lib\\site-packages (3.2.0)\n",
      "Requirement already satisfied: category-encoders>=2.4.0 in c:\\users\\hp\\appdata\\local\\programs\\python\\python38\\lib\\site-packages (from pycaret) (2.6.4)\n",
      "Requirement already satisfied: cloudpickle in c:\\users\\hp\\appdata\\local\\programs\\python\\python38\\lib\\site-packages (from pycaret) (2.2.1)\n",
      "Requirement already satisfied: deprecation>=2.1.0 in c:\\users\\hp\\appdata\\local\\programs\\python\\python38\\lib\\site-packages (from pycaret) (2.1.0)\n",
      "Requirement already satisfied: imbalanced-learn>=0.8.1 in c:\\users\\hp\\appdata\\local\\programs\\python\\python38\\lib\\site-packages (from pycaret) (0.12.4)\n",
      "Requirement already satisfied: importlib-metadata>=4.12.0 in c:\\users\\hp\\appdata\\local\\programs\\python\\python38\\lib\\site-packages (from pycaret) (8.5.0)\n",
      "Requirement already satisfied: ipython>=5.5.0 in c:\\users\\hp\\appdata\\local\\programs\\python\\python38\\lib\\site-packages (from pycaret) (8.12.3)\n",
      "Requirement already satisfied: ipywidgets>=7.6.5 in c:\\users\\hp\\appdata\\local\\programs\\python\\python38\\lib\\site-packages (from pycaret) (8.1.5)\n",
      "Requirement already satisfied: jinja2>=1.2 in c:\\users\\hp\\appdata\\local\\programs\\python\\python38\\lib\\site-packages (from pycaret) (3.1.4)\n",
      "Requirement already satisfied: joblib>=1.2.0 in c:\\users\\hp\\appdata\\local\\programs\\python\\python38\\lib\\site-packages (from pycaret) (1.2.0)\n",
      "Requirement already satisfied: kaleido>=0.2.1 in c:\\users\\hp\\appdata\\local\\programs\\python\\python38\\lib\\site-packages (from pycaret) (0.2.1)\n",
      "Requirement already satisfied: lightgbm>=3.0.0 in c:\\users\\hp\\appdata\\local\\programs\\python\\python38\\lib\\site-packages (from pycaret) (4.5.0)\n",
      "Requirement already satisfied: markupsafe>=2.0.1 in c:\\users\\hp\\appdata\\local\\programs\\python\\python38\\lib\\site-packages (from pycaret) (2.1.5)\n",
      "Requirement already satisfied: matplotlib<=3.6,>=3.3.0 in c:\\users\\hp\\appdata\\local\\programs\\python\\python38\\lib\\site-packages (from pycaret) (3.5.3)\n",
      "Requirement already satisfied: nbformat>=4.2.0 in c:\\users\\hp\\appdata\\local\\programs\\python\\python38\\lib\\site-packages (from pycaret) (5.10.4)\n",
      "Requirement already satisfied: numba>=0.55.0 in c:\\users\\hp\\appdata\\local\\programs\\python\\python38\\lib\\site-packages (from pycaret) (0.58.1)\n",
      "Requirement already satisfied: numpy<1.27,>=1.21 in c:\\users\\hp\\appdata\\local\\programs\\python\\python38\\lib\\site-packages (from pycaret) (1.23.5)\n",
      "Requirement already satisfied: pandas<2.0.0,>=1.3.0 in c:\\users\\hp\\appdata\\local\\programs\\python\\python38\\lib\\site-packages (from pycaret) (1.5.3)\n",
      "Requirement already satisfied: plotly-resampler>=0.8.3.1 in c:\\users\\hp\\appdata\\local\\programs\\python\\python38\\lib\\site-packages (from pycaret) (0.10.0)\n",
      "Requirement already satisfied: plotly>=5.0.0 in c:\\users\\hp\\appdata\\local\\programs\\python\\python38\\lib\\site-packages (from pycaret) (5.24.1)\n",
      "Requirement already satisfied: pmdarima!=1.8.1,<3.0.0,>=1.8.0 in c:\\users\\hp\\appdata\\local\\programs\\python\\python38\\lib\\site-packages (from pycaret) (2.0.4)\n",
      "Requirement already satisfied: psutil>=5.9.0 in c:\\users\\hp\\appdata\\local\\programs\\python\\python38\\lib\\site-packages (from pycaret) (6.1.1)\n",
      "Requirement already satisfied: pyod>=1.0.8 in c:\\users\\hp\\appdata\\local\\programs\\python\\python38\\lib\\site-packages (from pycaret) (1.0.9)\n",
      "Requirement already satisfied: requests>=2.27.1 in c:\\users\\hp\\appdata\\local\\programs\\python\\python38\\lib\\site-packages (from pycaret) (2.32.3)\n",
      "Requirement already satisfied: schemdraw==0.15 in c:\\users\\hp\\appdata\\local\\programs\\python\\python38\\lib\\site-packages (from pycaret) (0.15)\n",
      "Requirement already satisfied: scikit-learn<1.3.0,>=1.0 in c:\\users\\hp\\appdata\\local\\programs\\python\\python38\\lib\\site-packages (from pycaret) (1.1.3)\n",
      "Requirement already satisfied: scikit-plot>=0.3.7 in c:\\users\\hp\\appdata\\local\\programs\\python\\python38\\lib\\site-packages (from pycaret) (0.3.7)\n",
      "Requirement already satisfied: scipy~=1.10.1 in c:\\users\\hp\\appdata\\local\\programs\\python\\python38\\lib\\site-packages (from pycaret) (1.10.1)\n",
      "Requirement already satisfied: sktime!=0.17.1,!=0.17.2,!=0.18.0,<0.22.0,>=0.16.1 in c:\\users\\hp\\appdata\\local\\programs\\python\\python38\\lib\\site-packages (from pycaret) (0.21.1)\n",
      "Requirement already satisfied: statsmodels>=0.12.1 in c:\\users\\hp\\appdata\\local\\programs\\python\\python38\\lib\\site-packages (from pycaret) (0.14.1)\n",
      "Requirement already satisfied: tbats>=1.1.3 in c:\\users\\hp\\appdata\\local\\programs\\python\\python38\\lib\\site-packages (from pycaret) (1.1.3)\n",
      "Requirement already satisfied: tqdm>=4.62.0 in c:\\users\\hp\\appdata\\local\\programs\\python\\python38\\lib\\site-packages (from pycaret) (4.66.5)\n",
      "Requirement already satisfied: xxhash in c:\\users\\hp\\appdata\\local\\programs\\python\\python38\\lib\\site-packages (from pycaret) (3.5.0)\n",
      "Requirement already satisfied: yellowbrick>=1.4 in c:\\users\\hp\\appdata\\local\\programs\\python\\python38\\lib\\site-packages (from pycaret) (1.5)\n",
      "Requirement already satisfied: patsy>=0.5.1 in c:\\users\\hp\\appdata\\local\\programs\\python\\python38\\lib\\site-packages (from category-encoders>=2.4.0->pycaret) (1.0.1)\n",
      "Requirement already satisfied: importlib-resources in c:\\users\\hp\\appdata\\local\\programs\\python\\python38\\lib\\site-packages (from category-encoders>=2.4.0->pycaret) (6.4.5)\n",
      "Requirement already satisfied: packaging in c:\\users\\hp\\appdata\\local\\programs\\python\\python38\\lib\\site-packages (from deprecation>=2.1.0->pycaret) (24.2)\n",
      "Requirement already satisfied: threadpoolctl>=2.0.0 in c:\\users\\hp\\appdata\\local\\programs\\python\\python38\\lib\\site-packages (from imbalanced-learn>=0.8.1->pycaret) (3.5.0)\n",
      "Requirement already satisfied: zipp>=3.20 in c:\\users\\hp\\appdata\\local\\programs\\python\\python38\\lib\\site-packages (from importlib-metadata>=4.12.0->pycaret) (3.20.2)\n",
      "Requirement already satisfied: backcall in c:\\users\\hp\\appdata\\local\\programs\\python\\python38\\lib\\site-packages (from ipython>=5.5.0->pycaret) (0.2.0)\n",
      "Requirement already satisfied: decorator in c:\\users\\hp\\appdata\\local\\programs\\python\\python38\\lib\\site-packages (from ipython>=5.5.0->pycaret) (5.1.1)\n",
      "Requirement already satisfied: jedi>=0.16 in c:\\users\\hp\\appdata\\local\\programs\\python\\python38\\lib\\site-packages (from ipython>=5.5.0->pycaret) (0.19.2)\n",
      "Requirement already satisfied: matplotlib-inline in c:\\users\\hp\\appdata\\local\\programs\\python\\python38\\lib\\site-packages (from ipython>=5.5.0->pycaret) (0.1.7)\n",
      "Requirement already satisfied: pickleshare in c:\\users\\hp\\appdata\\local\\programs\\python\\python38\\lib\\site-packages (from ipython>=5.5.0->pycaret) (0.7.5)\n",
      "Requirement already satisfied: prompt-toolkit!=3.0.37,<3.1.0,>=3.0.30 in c:\\users\\hp\\appdata\\local\\programs\\python\\python38\\lib\\site-packages (from ipython>=5.5.0->pycaret) (3.0.48)\n",
      "Requirement already satisfied: pygments>=2.4.0 in c:\\users\\hp\\appdata\\local\\programs\\python\\python38\\lib\\site-packages (from ipython>=5.5.0->pycaret) (2.18.0)\n",
      "Requirement already satisfied: stack-data in c:\\users\\hp\\appdata\\local\\programs\\python\\python38\\lib\\site-packages (from ipython>=5.5.0->pycaret) (0.6.3)\n",
      "Requirement already satisfied: traitlets>=5 in c:\\users\\hp\\appdata\\local\\programs\\python\\python38\\lib\\site-packages (from ipython>=5.5.0->pycaret) (5.14.3)\n",
      "Requirement already satisfied: typing-extensions in c:\\users\\hp\\appdata\\local\\programs\\python\\python38\\lib\\site-packages (from ipython>=5.5.0->pycaret) (4.12.2)\n",
      "Requirement already satisfied: colorama in c:\\users\\hp\\appdata\\local\\programs\\python\\python38\\lib\\site-packages (from ipython>=5.5.0->pycaret) (0.4.6)\n",
      "Requirement already satisfied: comm>=0.1.3 in c:\\users\\hp\\appdata\\local\\programs\\python\\python38\\lib\\site-packages (from ipywidgets>=7.6.5->pycaret) (0.2.2)\n",
      "Requirement already satisfied: widgetsnbextension~=4.0.12 in c:\\users\\hp\\appdata\\local\\programs\\python\\python38\\lib\\site-packages (from ipywidgets>=7.6.5->pycaret) (4.0.13)\n",
      "Requirement already satisfied: jupyterlab-widgets~=3.0.12 in c:\\users\\hp\\appdata\\local\\programs\\python\\python38\\lib\\site-packages (from ipywidgets>=7.6.5->pycaret) (3.0.13)\n",
      "Requirement already satisfied: cycler>=0.10 in c:\\users\\hp\\appdata\\local\\programs\\python\\python38\\lib\\site-packages (from matplotlib<=3.6,>=3.3.0->pycaret) (0.12.1)\n",
      "Requirement already satisfied: fonttools>=4.22.0 in c:\\users\\hp\\appdata\\local\\programs\\python\\python38\\lib\\site-packages (from matplotlib<=3.6,>=3.3.0->pycaret) (4.53.1)\n",
      "Requirement already satisfied: kiwisolver>=1.0.1 in c:\\users\\hp\\appdata\\local\\programs\\python\\python38\\lib\\site-packages (from matplotlib<=3.6,>=3.3.0->pycaret) (1.4.7)\n",
      "Requirement already satisfied: pillow>=6.2.0 in c:\\users\\hp\\appdata\\local\\programs\\python\\python38\\lib\\site-packages (from matplotlib<=3.6,>=3.3.0->pycaret) (10.4.0)\n",
      "Requirement already satisfied: pyparsing>=2.2.1 in c:\\users\\hp\\appdata\\local\\programs\\python\\python38\\lib\\site-packages (from matplotlib<=3.6,>=3.3.0->pycaret) (3.1.4)\n",
      "Requirement already satisfied: python-dateutil>=2.7 in c:\\users\\hp\\appdata\\local\\programs\\python\\python38\\lib\\site-packages (from matplotlib<=3.6,>=3.3.0->pycaret) (2.8.2)\n",
      "Requirement already satisfied: fastjsonschema>=2.15 in c:\\users\\hp\\appdata\\local\\programs\\python\\python38\\lib\\site-packages (from nbformat>=4.2.0->pycaret) (2.21.1)\n",
      "Requirement already satisfied: jsonschema>=2.6 in c:\\users\\hp\\appdata\\local\\programs\\python\\python38\\lib\\site-packages (from nbformat>=4.2.0->pycaret) (4.17.3)\n",
      "Requirement already satisfied: jupyter-core!=5.0.*,>=4.12 in c:\\users\\hp\\appdata\\local\\programs\\python\\python38\\lib\\site-packages (from nbformat>=4.2.0->pycaret) (5.7.2)\n",
      "Requirement already satisfied: llvmlite<0.42,>=0.41.0dev0 in c:\\users\\hp\\appdata\\local\\programs\\python\\python38\\lib\\site-packages (from numba>=0.55.0->pycaret) (0.41.1)\n",
      "Requirement already satisfied: pytz>=2020.1 in c:\\users\\hp\\appdata\\local\\programs\\python\\python38\\lib\\site-packages (from pandas<2.0.0,>=1.3.0->pycaret) (2022.7.1)\n",
      "Requirement already satisfied: tenacity>=6.2.0 in c:\\users\\hp\\appdata\\local\\programs\\python\\python38\\lib\\site-packages (from plotly>=5.0.0->pycaret) (9.0.0)\n",
      "Requirement already satisfied: dash>=2.9.0 in c:\\users\\hp\\appdata\\local\\programs\\python\\python38\\lib\\site-packages (from plotly-resampler>=0.8.3.1->pycaret) (2.18.2)\n",
      "Requirement already satisfied: orjson<4.0.0,>=3.8.0 in c:\\users\\hp\\appdata\\local\\programs\\python\\python38\\lib\\site-packages (from plotly-resampler>=0.8.3.1->pycaret) (3.10.12)\n",
      "Requirement already satisfied: tsdownsample>=0.1.3 in c:\\users\\hp\\appdata\\local\\programs\\python\\python38\\lib\\site-packages (from plotly-resampler>=0.8.3.1->pycaret) (0.1.3)\n",
      "Requirement already satisfied: Cython!=0.29.18,!=0.29.31,>=0.29 in c:\\users\\hp\\appdata\\local\\programs\\python\\python38\\lib\\site-packages (from pmdarima!=1.8.1,<3.0.0,>=1.8.0->pycaret) (3.0.11)\n",
      "Requirement already satisfied: urllib3 in c:\\users\\hp\\appdata\\local\\programs\\python\\python38\\lib\\site-packages (from pmdarima!=1.8.1,<3.0.0,>=1.8.0->pycaret) (1.26.20)\n",
      "Requirement already satisfied: setuptools!=50.0.0,>=38.6.0 in c:\\users\\hp\\appdata\\local\\programs\\python\\python38\\lib\\site-packages (from pmdarima!=1.8.1,<3.0.0,>=1.8.0->pycaret) (75.3.0)\n",
      "Requirement already satisfied: six in c:\\users\\hp\\appdata\\local\\programs\\python\\python38\\lib\\site-packages (from pyod>=1.0.8->pycaret) (1.16.0)\n",
      "Requirement already satisfied: charset-normalizer<4,>=2 in c:\\users\\hp\\appdata\\local\\programs\\python\\python38\\lib\\site-packages (from requests>=2.27.1->pycaret) (3.3.2)\n",
      "Requirement already satisfied: idna<4,>=2.5 in c:\\users\\hp\\appdata\\local\\programs\\python\\python38\\lib\\site-packages (from requests>=2.27.1->pycaret) (3.10)\n",
      "Requirement already satisfied: certifi>=2017.4.17 in c:\\users\\hp\\appdata\\local\\programs\\python\\python38\\lib\\site-packages (from requests>=2.27.1->pycaret) (2024.8.30)\n",
      "Requirement already satisfied: deprecated>=1.2.13 in c:\\users\\hp\\appdata\\local\\programs\\python\\python38\\lib\\site-packages (from sktime!=0.17.1,!=0.17.2,!=0.18.0,<0.22.0,>=0.16.1->pycaret) (1.2.15)\n",
      "Requirement already satisfied: scikit-base<0.6.0 in c:\\users\\hp\\appdata\\local\\programs\\python\\python38\\lib\\site-packages (from sktime!=0.17.1,!=0.17.2,!=0.18.0,<0.22.0,>=0.16.1->pycaret) (0.5.2)\n",
      "Requirement already satisfied: Flask<3.1,>=1.0.4 in c:\\users\\hp\\appdata\\local\\programs\\python\\python38\\lib\\site-packages (from dash>=2.9.0->plotly-resampler>=0.8.3.1->pycaret) (3.0.3)\n",
      "Requirement already satisfied: Werkzeug<3.1 in c:\\users\\hp\\appdata\\local\\programs\\python\\python38\\lib\\site-packages (from dash>=2.9.0->plotly-resampler>=0.8.3.1->pycaret) (3.0.4)\n",
      "Requirement already satisfied: dash-html-components==2.0.0 in c:\\users\\hp\\appdata\\local\\programs\\python\\python38\\lib\\site-packages (from dash>=2.9.0->plotly-resampler>=0.8.3.1->pycaret) (2.0.0)\n",
      "Requirement already satisfied: dash-core-components==2.0.0 in c:\\users\\hp\\appdata\\local\\programs\\python\\python38\\lib\\site-packages (from dash>=2.9.0->plotly-resampler>=0.8.3.1->pycaret) (2.0.0)\n",
      "Requirement already satisfied: dash-table==5.0.0 in c:\\users\\hp\\appdata\\local\\programs\\python\\python38\\lib\\site-packages (from dash>=2.9.0->plotly-resampler>=0.8.3.1->pycaret) (5.0.0)\n",
      "Requirement already satisfied: retrying in c:\\users\\hp\\appdata\\local\\programs\\python\\python38\\lib\\site-packages (from dash>=2.9.0->plotly-resampler>=0.8.3.1->pycaret) (1.3.4)\n",
      "Requirement already satisfied: nest-asyncio in c:\\users\\hp\\appdata\\local\\programs\\python\\python38\\lib\\site-packages (from dash>=2.9.0->plotly-resampler>=0.8.3.1->pycaret) (1.6.0)\n",
      "Requirement already satisfied: wrapt<2,>=1.10 in c:\\users\\hp\\appdata\\local\\programs\\python\\python38\\lib\\site-packages (from deprecated>=1.2.13->sktime!=0.17.1,!=0.17.2,!=0.18.0,<0.22.0,>=0.16.1->pycaret) (1.14.1)\n",
      "Requirement already satisfied: parso<0.9.0,>=0.8.4 in c:\\users\\hp\\appdata\\local\\programs\\python\\python38\\lib\\site-packages (from jedi>=0.16->ipython>=5.5.0->pycaret) (0.8.4)\n",
      "Requirement already satisfied: attrs>=17.4.0 in c:\\users\\hp\\appdata\\local\\programs\\python\\python38\\lib\\site-packages (from jsonschema>=2.6->nbformat>=4.2.0->pycaret) (22.1.0)\n",
      "Requirement already satisfied: pkgutil-resolve-name>=1.3.10 in c:\\users\\hp\\appdata\\local\\programs\\python\\python38\\lib\\site-packages (from jsonschema>=2.6->nbformat>=4.2.0->pycaret) (1.3.10)\n",
      "Requirement already satisfied: pyrsistent!=0.17.0,!=0.17.1,!=0.17.2,>=0.14.0 in c:\\users\\hp\\appdata\\local\\programs\\python\\python38\\lib\\site-packages (from jsonschema>=2.6->nbformat>=4.2.0->pycaret) (0.20.0)\n",
      "Requirement already satisfied: platformdirs>=2.5 in c:\\users\\hp\\appdata\\local\\programs\\python\\python38\\lib\\site-packages (from jupyter-core!=5.0.*,>=4.12->nbformat>=4.2.0->pycaret) (4.3.6)\n",
      "Requirement already satisfied: pywin32>=300 in c:\\users\\hp\\appdata\\local\\programs\\python\\python38\\lib\\site-packages (from jupyter-core!=5.0.*,>=4.12->nbformat>=4.2.0->pycaret) (306)\n",
      "Requirement already satisfied: wcwidth in c:\\users\\hp\\appdata\\local\\programs\\python\\python38\\lib\\site-packages (from prompt-toolkit!=3.0.37,<3.1.0,>=3.0.30->ipython>=5.5.0->pycaret) (0.2.13)\n",
      "Requirement already satisfied: executing>=1.2.0 in c:\\users\\hp\\appdata\\local\\programs\\python\\python38\\lib\\site-packages (from stack-data->ipython>=5.5.0->pycaret) (2.1.0)\n",
      "Requirement already satisfied: asttokens>=2.1.0 in c:\\users\\hp\\appdata\\local\\programs\\python\\python38\\lib\\site-packages (from stack-data->ipython>=5.5.0->pycaret) (3.0.0)\n",
      "Requirement already satisfied: pure-eval in c:\\users\\hp\\appdata\\local\\programs\\python\\python38\\lib\\site-packages (from stack-data->ipython>=5.5.0->pycaret) (0.2.3)\n",
      "Requirement already satisfied: itsdangerous>=2.1.2 in c:\\users\\hp\\appdata\\local\\programs\\python\\python38\\lib\\site-packages (from Flask<3.1,>=1.0.4->dash>=2.9.0->plotly-resampler>=0.8.3.1->pycaret) (2.2.0)\n",
      "Requirement already satisfied: click>=8.1.3 in c:\\users\\hp\\appdata\\local\\programs\\python\\python38\\lib\\site-packages (from Flask<3.1,>=1.0.4->dash>=2.9.0->plotly-resampler>=0.8.3.1->pycaret) (8.1.7)\n",
      "Requirement already satisfied: blinker>=1.6.2 in c:\\users\\hp\\appdata\\local\\programs\\python\\python38\\lib\\site-packages (from Flask<3.1,>=1.0.4->dash>=2.9.0->plotly-resampler>=0.8.3.1->pycaret) (1.8.2)\n"
     ]
    }
   ],
   "source": [
    "!pip install pycaret"
   ]
  },
  {
   "cell_type": "code",
   "execution_count": 7,
   "metadata": {},
   "outputs": [
    {
     "ename": "ModuleNotFoundError",
     "evalue": "No module named 'pycaret'",
     "output_type": "error",
     "traceback": [
      "\u001b[1;31m---------------------------------------------------------------------------\u001b[0m",
      "\u001b[1;31mModuleNotFoundError\u001b[0m                       Traceback (most recent call last)",
      "Cell \u001b[1;32mIn[7], line 1\u001b[0m\n\u001b[1;32m----> 1\u001b[0m \u001b[38;5;28;01mfrom\u001b[39;00m \u001b[38;5;21;01mpycaret\u001b[39;00m\u001b[38;5;21;01m.\u001b[39;00m\u001b[38;5;21;01mdatasets\u001b[39;00m \u001b[38;5;28;01mimport\u001b[39;00m get_data\n\u001b[0;32m      2\u001b[0m data1\u001b[38;5;241m=\u001b[39mget_data(dataset\u001b[38;5;241m=\u001b[39m\u001b[38;5;124m'\u001b[39m\u001b[38;5;124mtraffic\u001b[39m\u001b[38;5;124m'\u001b[39m)\n",
      "\u001b[1;31mModuleNotFoundError\u001b[0m: No module named 'pycaret'"
     ]
    }
   ],
   "source": [
    "from pycaret.datasets import get_data\n",
    "data1=get_data(dataset='traffic')"
   ]
  },
  {
   "cell_type": "code",
   "execution_count": null,
   "metadata": {},
   "outputs": [],
   "source": []
  },
  {
   "cell_type": "code",
   "execution_count": null,
   "metadata": {},
   "outputs": [],
   "source": []
  },
  {
   "cell_type": "code",
   "execution_count": null,
   "metadata": {},
   "outputs": [],
   "source": []
  },
  {
   "cell_type": "code",
   "execution_count": null,
   "metadata": {},
   "outputs": [],
   "source": []
  },
  {
   "cell_type": "code",
   "execution_count": null,
   "metadata": {},
   "outputs": [],
   "source": []
  }
 ],
 "metadata": {
  "kernelspec": {
   "display_name": "Python 3",
   "language": "python",
   "name": "python3"
  },
  "language_info": {
   "codemirror_mode": {
    "name": "ipython",
    "version": 3
   },
   "file_extension": ".py",
   "mimetype": "text/x-python",
   "name": "python",
   "nbconvert_exporter": "python",
   "pygments_lexer": "ipython3",
   "version": "3.12.1"
  }
 },
 "nbformat": 4,
 "nbformat_minor": 2
}
